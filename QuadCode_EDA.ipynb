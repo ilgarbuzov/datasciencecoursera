{
  "nbformat": 4,
  "nbformat_minor": 0,
  "metadata": {
    "kernelspec": {
      "display_name": "Python 3",
      "language": "python",
      "name": "python3"
    },
    "language_info": {
      "codemirror_mode": {
        "name": "ipython",
        "version": 3
      },
      "file_extension": ".py",
      "mimetype": "text/x-python",
      "name": "python",
      "nbconvert_exporter": "python",
      "pygments_lexer": "ipython3",
      "version": "3.8.3"
    },
    "colab": {
      "name": "QuadCode_EDA.ipynb",
      "provenance": []
    }
  },
  "cells": [
    {
      "cell_type": "code",
      "metadata": {
        "id": "JVfNW_gCZGvX"
      },
      "source": [
        "from functools import reduce\n",
        "import numpy as np, pandas as pd\n",
        "import os\n",
        "import matplotlib.pyplot as plt\n",
        "from sklearn import preprocessing\n",
        "from sklearn.cluster import KMeans\n",
        "from sklearn.metrics import calinski_harabasz_score, silhouette_score\n",
        "from sklearn.decomposition import PCA\n",
        "\n",
        "import warnings\n",
        "\n",
        "warnings.filterwarnings('ignore')\n",
        "%matplotlib inline"
      ],
      "execution_count": null,
      "outputs": []
    },
    {
      "cell_type": "code",
      "metadata": {
        "id": "Ga_oDymkZGve",
        "outputId": "1c9b2bad-2b23-4c86-86a3-2613502f23aa"
      },
      "source": [
        "pwd"
      ],
      "execution_count": null,
      "outputs": [
        {
          "output_type": "execute_result",
          "data": {
            "text/plain": [
              "'C:\\\\Users\\\\ilgar\\\\QuadCode'"
            ]
          },
          "metadata": {
            "tags": []
          },
          "execution_count": 2
        }
      ]
    },
    {
      "cell_type": "code",
      "metadata": {
        "id": "W9rfGbgbZGvg"
      },
      "source": [
        "deals = pd.read_csv('C:\\\\Users\\\\ilgar\\\\QuadCode\\dataset_deals.csv', parse_dates=['create_at', 'close_at'])"
      ],
      "execution_count": null,
      "outputs": []
    },
    {
      "cell_type": "code",
      "metadata": {
        "id": "6rtp_OyrZGvg",
        "outputId": "476ea020-1a20-4913-95af-5e5fd8e853db"
      },
      "source": [
        "deals.head()"
      ],
      "execution_count": null,
      "outputs": [
        {
          "output_type": "execute_result",
          "data": {
            "text/html": [
              "<div>\n",
              "<style scoped>\n",
              "    .dataframe tbody tr th:only-of-type {\n",
              "        vertical-align: middle;\n",
              "    }\n",
              "\n",
              "    .dataframe tbody tr th {\n",
              "        vertical-align: top;\n",
              "    }\n",
              "\n",
              "    .dataframe thead th {\n",
              "        text-align: right;\n",
              "    }\n",
              "</style>\n",
              "<table border=\"1\" class=\"dataframe\">\n",
              "  <thead>\n",
              "    <tr style=\"text-align: right;\">\n",
              "      <th></th>\n",
              "      <th>user_id</th>\n",
              "      <th>instrument_type</th>\n",
              "      <th>create_at</th>\n",
              "      <th>close_at</th>\n",
              "      <th>pnl</th>\n",
              "      <th>volume</th>\n",
              "    </tr>\n",
              "  </thead>\n",
              "  <tbody>\n",
              "    <tr>\n",
              "      <th>0</th>\n",
              "      <td>58124196</td>\n",
              "      <td>cfd</td>\n",
              "      <td>2020-02-10 17:35:44.103000+03:00</td>\n",
              "      <td>2020-02-10 17:37:08.082000+03:00</td>\n",
              "      <td>20316</td>\n",
              "      <td>2000727</td>\n",
              "    </tr>\n",
              "    <tr>\n",
              "      <th>1</th>\n",
              "      <td>57944691</td>\n",
              "      <td>cfd</td>\n",
              "      <td>2020-02-06 13:20:55.053000+03:00</td>\n",
              "      <td>2020-02-06 14:51:38.055000+03:00</td>\n",
              "      <td>-37814</td>\n",
              "      <td>1998704</td>\n",
              "    </tr>\n",
              "    <tr>\n",
              "      <th>2</th>\n",
              "      <td>57925995</td>\n",
              "      <td>crypto</td>\n",
              "      <td>2020-02-13 07:24:27.036000+03:00</td>\n",
              "      <td>2020-02-13 11:29:04.068000+03:00</td>\n",
              "      <td>-846487</td>\n",
              "      <td>3867023</td>\n",
              "    </tr>\n",
              "    <tr>\n",
              "      <th>3</th>\n",
              "      <td>58064247</td>\n",
              "      <td>crypto</td>\n",
              "      <td>2020-02-10 17:57:58.067000+03:00</td>\n",
              "      <td>2020-02-10 18:02:04.057000+03:00</td>\n",
              "      <td>-332474</td>\n",
              "      <td>6006630</td>\n",
              "    </tr>\n",
              "    <tr>\n",
              "      <th>4</th>\n",
              "      <td>57848409</td>\n",
              "      <td>forex</td>\n",
              "      <td>2020-02-04 10:23:25.208000+03:00</td>\n",
              "      <td>2020-02-04 11:32:03.601000+03:00</td>\n",
              "      <td>-1016931</td>\n",
              "      <td>20299660</td>\n",
              "    </tr>\n",
              "  </tbody>\n",
              "</table>\n",
              "</div>"
            ],
            "text/plain": [
              "    user_id instrument_type                        create_at  \\\n",
              "0  58124196             cfd 2020-02-10 17:35:44.103000+03:00   \n",
              "1  57944691             cfd 2020-02-06 13:20:55.053000+03:00   \n",
              "2  57925995          crypto 2020-02-13 07:24:27.036000+03:00   \n",
              "3  58064247          crypto 2020-02-10 17:57:58.067000+03:00   \n",
              "4  57848409           forex 2020-02-04 10:23:25.208000+03:00   \n",
              "\n",
              "                          close_at      pnl    volume  \n",
              "0 2020-02-10 17:37:08.082000+03:00    20316   2000727  \n",
              "1 2020-02-06 14:51:38.055000+03:00   -37814   1998704  \n",
              "2 2020-02-13 11:29:04.068000+03:00  -846487   3867023  \n",
              "3 2020-02-10 18:02:04.057000+03:00  -332474   6006630  \n",
              "4 2020-02-04 11:32:03.601000+03:00 -1016931  20299660  "
            ]
          },
          "metadata": {
            "tags": []
          },
          "execution_count": 4
        }
      ]
    },
    {
      "cell_type": "code",
      "metadata": {
        "id": "U9Kp17SiZGvh",
        "outputId": "497021be-7054-4daa-c5ab-5b10dd397885"
      },
      "source": [
        "deals.info()"
      ],
      "execution_count": null,
      "outputs": [
        {
          "output_type": "stream",
          "text": [
            "<class 'pandas.core.frame.DataFrame'>\n",
            "RangeIndex: 10473 entries, 0 to 10472\n",
            "Data columns (total 6 columns):\n",
            " #   Column           Non-Null Count  Dtype                                \n",
            "---  ------           --------------  -----                                \n",
            " 0   user_id          10473 non-null  int64                                \n",
            " 1   instrument_type  10473 non-null  object                               \n",
            " 2   create_at        10473 non-null  datetime64[ns, pytz.FixedOffset(180)]\n",
            " 3   close_at         10473 non-null  datetime64[ns, pytz.FixedOffset(180)]\n",
            " 4   pnl              10473 non-null  int64                                \n",
            " 5   volume           10473 non-null  int64                                \n",
            "dtypes: datetime64[ns, pytz.FixedOffset(180)](2), int64(3), object(1)\n",
            "memory usage: 491.0+ KB\n"
          ],
          "name": "stdout"
        }
      ]
    },
    {
      "cell_type": "code",
      "metadata": {
        "id": "BWKKNqNvZGvh",
        "outputId": "72be21ed-a567-4b81-be48-560dd4a7d91e"
      },
      "source": [
        "deals.shape"
      ],
      "execution_count": null,
      "outputs": [
        {
          "output_type": "execute_result",
          "data": {
            "text/plain": [
              "(10473, 6)"
            ]
          },
          "metadata": {
            "tags": []
          },
          "execution_count": 6
        }
      ]
    },
    {
      "cell_type": "code",
      "metadata": {
        "scrolled": true,
        "id": "P-3Hz2fzZGvi",
        "outputId": "14773895-f62f-4e12-ec2b-d5cfde124d8c"
      },
      "source": [
        "deals.instrument_type.value_counts()"
      ],
      "execution_count": null,
      "outputs": [
        {
          "output_type": "execute_result",
          "data": {
            "text/plain": [
              "cfd       4177\n",
              "forex     3972\n",
              "crypto    2324\n",
              "Name: instrument_type, dtype: int64"
            ]
          },
          "metadata": {
            "tags": []
          },
          "execution_count": 7
        }
      ]
    },
    {
      "cell_type": "code",
      "metadata": {
        "id": "5AP7mj9oZGvi",
        "outputId": "bfe2961b-2eef-41f1-eb57-c44e4d63d43e"
      },
      "source": [
        "# Time period of the dataset\n",
        "print('Min date from create_at : %s' % deals.create_at.min().date())\n",
        "print('Max date from create_at : %s' % deals.create_at.max().date())\n",
        "print('Min date from close_at : %s' % deals.close_at.min().date())\n",
        "print('Max date from close_at : %s' % deals.close_at.max().date())"
      ],
      "execution_count": null,
      "outputs": [
        {
          "output_type": "stream",
          "text": [
            "Min date from create_at : 2020-02-01\n",
            "Max date from create_at : 2020-02-21\n",
            "Min date from close_at : 2020-02-01\n",
            "Max date from close_at : 2020-02-21\n"
          ],
          "name": "stdout"
        }
      ]
    },
    {
      "cell_type": "code",
      "metadata": {
        "id": "7NjwncEAZGvi",
        "outputId": "3c5b44e4-7f00-4418-c336-3dadbaee4125"
      },
      "source": [
        "deals.describe()"
      ],
      "execution_count": null,
      "outputs": [
        {
          "output_type": "execute_result",
          "data": {
            "text/html": [
              "<div>\n",
              "<style scoped>\n",
              "    .dataframe tbody tr th:only-of-type {\n",
              "        vertical-align: middle;\n",
              "    }\n",
              "\n",
              "    .dataframe tbody tr th {\n",
              "        vertical-align: top;\n",
              "    }\n",
              "\n",
              "    .dataframe thead th {\n",
              "        text-align: right;\n",
              "    }\n",
              "</style>\n",
              "<table border=\"1\" class=\"dataframe\">\n",
              "  <thead>\n",
              "    <tr style=\"text-align: right;\">\n",
              "      <th></th>\n",
              "      <th>user_id</th>\n",
              "      <th>pnl</th>\n",
              "      <th>volume</th>\n",
              "    </tr>\n",
              "  </thead>\n",
              "  <tbody>\n",
              "    <tr>\n",
              "      <th>count</th>\n",
              "      <td>1.047300e+04</td>\n",
              "      <td>1.047300e+04</td>\n",
              "      <td>1.047300e+04</td>\n",
              "    </tr>\n",
              "    <tr>\n",
              "      <th>mean</th>\n",
              "      <td>5.789077e+07</td>\n",
              "      <td>-1.149651e+06</td>\n",
              "      <td>1.531856e+07</td>\n",
              "    </tr>\n",
              "    <tr>\n",
              "      <th>std</th>\n",
              "      <td>1.422675e+05</td>\n",
              "      <td>1.782110e+07</td>\n",
              "      <td>5.412133e+07</td>\n",
              "    </tr>\n",
              "    <tr>\n",
              "      <th>min</th>\n",
              "      <td>5.764248e+07</td>\n",
              "      <td>-9.740030e+08</td>\n",
              "      <td>5.857900e+04</td>\n",
              "    </tr>\n",
              "    <tr>\n",
              "      <th>25%</th>\n",
              "      <td>5.778149e+07</td>\n",
              "      <td>-3.823360e+05</td>\n",
              "      <td>1.996482e+06</td>\n",
              "    </tr>\n",
              "    <tr>\n",
              "      <th>50%</th>\n",
              "      <td>5.786834e+07</td>\n",
              "      <td>-8.948000e+03</td>\n",
              "      <td>2.438243e+06</td>\n",
              "    </tr>\n",
              "    <tr>\n",
              "      <th>75%</th>\n",
              "      <td>5.802388e+07</td>\n",
              "      <td>1.451220e+05</td>\n",
              "      <td>9.286702e+06</td>\n",
              "    </tr>\n",
              "    <tr>\n",
              "      <th>max</th>\n",
              "      <td>5.814032e+07</td>\n",
              "      <td>3.899516e+08</td>\n",
              "      <td>9.999998e+08</td>\n",
              "    </tr>\n",
              "  </tbody>\n",
              "</table>\n",
              "</div>"
            ],
            "text/plain": [
              "            user_id           pnl        volume\n",
              "count  1.047300e+04  1.047300e+04  1.047300e+04\n",
              "mean   5.789077e+07 -1.149651e+06  1.531856e+07\n",
              "std    1.422675e+05  1.782110e+07  5.412133e+07\n",
              "min    5.764248e+07 -9.740030e+08  5.857900e+04\n",
              "25%    5.778149e+07 -3.823360e+05  1.996482e+06\n",
              "50%    5.786834e+07 -8.948000e+03  2.438243e+06\n",
              "75%    5.802388e+07  1.451220e+05  9.286702e+06\n",
              "max    5.814032e+07  3.899516e+08  9.999998e+08"
            ]
          },
          "metadata": {
            "tags": []
          },
          "execution_count": 9
        }
      ]
    },
    {
      "cell_type": "code",
      "metadata": {
        "id": "ums99EiGZGvj"
      },
      "source": [
        "deposits = pd.read_csv('C:\\\\Users\\\\ilgar\\\\QuadCode\\dataset_deposits.csv', parse_dates=['transaction_created'])"
      ],
      "execution_count": null,
      "outputs": []
    },
    {
      "cell_type": "code",
      "metadata": {
        "id": "_8sJtqJUZGvj",
        "outputId": "08b06525-4b13-427c-9e7d-cfc793a851f9"
      },
      "source": [
        "deposits.head()"
      ],
      "execution_count": null,
      "outputs": [
        {
          "output_type": "execute_result",
          "data": {
            "text/html": [
              "<div>\n",
              "<style scoped>\n",
              "    .dataframe tbody tr th:only-of-type {\n",
              "        vertical-align: middle;\n",
              "    }\n",
              "\n",
              "    .dataframe tbody tr th {\n",
              "        vertical-align: top;\n",
              "    }\n",
              "\n",
              "    .dataframe thead th {\n",
              "        text-align: right;\n",
              "    }\n",
              "</style>\n",
              "<table border=\"1\" class=\"dataframe\">\n",
              "  <thead>\n",
              "    <tr style=\"text-align: right;\">\n",
              "      <th></th>\n",
              "      <th>user_id</th>\n",
              "      <th>transaction_type</th>\n",
              "      <th>transaction_sum</th>\n",
              "      <th>transaction_created</th>\n",
              "    </tr>\n",
              "  </thead>\n",
              "  <tbody>\n",
              "    <tr>\n",
              "      <th>0</th>\n",
              "      <td>57723114</td>\n",
              "      <td>deposit</td>\n",
              "      <td>10.000000</td>\n",
              "      <td>2020-02-02 09:43:02</td>\n",
              "    </tr>\n",
              "    <tr>\n",
              "      <th>1</th>\n",
              "      <td>57737901</td>\n",
              "      <td>deposit</td>\n",
              "      <td>10.000000</td>\n",
              "      <td>2020-02-02 15:54:38</td>\n",
              "    </tr>\n",
              "    <tr>\n",
              "      <th>2</th>\n",
              "      <td>57730809</td>\n",
              "      <td>deposit</td>\n",
              "      <td>9.695176</td>\n",
              "      <td>2020-02-02 19:27:37</td>\n",
              "    </tr>\n",
              "    <tr>\n",
              "      <th>3</th>\n",
              "      <td>57791328</td>\n",
              "      <td>deposit</td>\n",
              "      <td>13.000000</td>\n",
              "      <td>2020-02-03 11:56:12</td>\n",
              "    </tr>\n",
              "    <tr>\n",
              "      <th>4</th>\n",
              "      <td>57841569</td>\n",
              "      <td>deposit</td>\n",
              "      <td>10.000000</td>\n",
              "      <td>2020-02-04 03:41:51</td>\n",
              "    </tr>\n",
              "  </tbody>\n",
              "</table>\n",
              "</div>"
            ],
            "text/plain": [
              "    user_id transaction_type  transaction_sum transaction_created\n",
              "0  57723114          deposit        10.000000 2020-02-02 09:43:02\n",
              "1  57737901          deposit        10.000000 2020-02-02 15:54:38\n",
              "2  57730809          deposit         9.695176 2020-02-02 19:27:37\n",
              "3  57791328          deposit        13.000000 2020-02-03 11:56:12\n",
              "4  57841569          deposit        10.000000 2020-02-04 03:41:51"
            ]
          },
          "metadata": {
            "tags": []
          },
          "execution_count": 11
        }
      ]
    },
    {
      "cell_type": "code",
      "metadata": {
        "id": "3zKQwWINZGvj",
        "outputId": "ddbbe6db-c546-40ad-bd0b-38c7d5d9855e"
      },
      "source": [
        "deposits.info()"
      ],
      "execution_count": null,
      "outputs": [
        {
          "output_type": "stream",
          "text": [
            "<class 'pandas.core.frame.DataFrame'>\n",
            "RangeIndex: 8771 entries, 0 to 8770\n",
            "Data columns (total 4 columns):\n",
            " #   Column               Non-Null Count  Dtype         \n",
            "---  ------               --------------  -----         \n",
            " 0   user_id              8771 non-null   int64         \n",
            " 1   transaction_type     8771 non-null   object        \n",
            " 2   transaction_sum      8771 non-null   float64       \n",
            " 3   transaction_created  8771 non-null   datetime64[ns]\n",
            "dtypes: datetime64[ns](1), float64(1), int64(1), object(1)\n",
            "memory usage: 274.2+ KB\n"
          ],
          "name": "stdout"
        }
      ]
    },
    {
      "cell_type": "code",
      "metadata": {
        "id": "OCBzM9XdZGvk",
        "outputId": "017408e0-a2ac-435b-e2a9-c9259900a055"
      },
      "source": [
        "deposits.transaction_type.value_counts()"
      ],
      "execution_count": null,
      "outputs": [
        {
          "output_type": "execute_result",
          "data": {
            "text/plain": [
              "deposit     7148\n",
              "withdraw    1623\n",
              "Name: transaction_type, dtype: int64"
            ]
          },
          "metadata": {
            "tags": []
          },
          "execution_count": 13
        }
      ]
    },
    {
      "cell_type": "code",
      "metadata": {
        "id": "9wshrDM5ZGvk",
        "outputId": "c901c7a8-cc95-4a68-b3de-e0ae8473a98c"
      },
      "source": [
        "deposits.describe()"
      ],
      "execution_count": null,
      "outputs": [
        {
          "output_type": "execute_result",
          "data": {
            "text/html": [
              "<div>\n",
              "<style scoped>\n",
              "    .dataframe tbody tr th:only-of-type {\n",
              "        vertical-align: middle;\n",
              "    }\n",
              "\n",
              "    .dataframe tbody tr th {\n",
              "        vertical-align: top;\n",
              "    }\n",
              "\n",
              "    .dataframe thead th {\n",
              "        text-align: right;\n",
              "    }\n",
              "</style>\n",
              "<table border=\"1\" class=\"dataframe\">\n",
              "  <thead>\n",
              "    <tr style=\"text-align: right;\">\n",
              "      <th></th>\n",
              "      <th>user_id</th>\n",
              "      <th>transaction_sum</th>\n",
              "    </tr>\n",
              "  </thead>\n",
              "  <tbody>\n",
              "    <tr>\n",
              "      <th>count</th>\n",
              "      <td>8.771000e+03</td>\n",
              "      <td>8771.000000</td>\n",
              "    </tr>\n",
              "    <tr>\n",
              "      <th>mean</th>\n",
              "      <td>5.789273e+07</td>\n",
              "      <td>17.290301</td>\n",
              "    </tr>\n",
              "    <tr>\n",
              "      <th>std</th>\n",
              "      <td>1.559790e+05</td>\n",
              "      <td>391.991882</td>\n",
              "    </tr>\n",
              "    <tr>\n",
              "      <th>min</th>\n",
              "      <td>5.764248e+07</td>\n",
              "      <td>-5000.000000</td>\n",
              "    </tr>\n",
              "    <tr>\n",
              "      <th>25%</th>\n",
              "      <td>5.774238e+07</td>\n",
              "      <td>10.000000</td>\n",
              "    </tr>\n",
              "    <tr>\n",
              "      <th>50%</th>\n",
              "      <td>5.788188e+07</td>\n",
              "      <td>10.000000</td>\n",
              "    </tr>\n",
              "    <tr>\n",
              "      <th>75%</th>\n",
              "      <td>5.803430e+07</td>\n",
              "      <td>14.643431</td>\n",
              "    </tr>\n",
              "    <tr>\n",
              "      <th>max</th>\n",
              "      <td>5.814032e+07</td>\n",
              "      <td>29700.000000</td>\n",
              "    </tr>\n",
              "  </tbody>\n",
              "</table>\n",
              "</div>"
            ],
            "text/plain": [
              "            user_id  transaction_sum\n",
              "count  8.771000e+03      8771.000000\n",
              "mean   5.789273e+07        17.290301\n",
              "std    1.559790e+05       391.991882\n",
              "min    5.764248e+07     -5000.000000\n",
              "25%    5.774238e+07        10.000000\n",
              "50%    5.788188e+07        10.000000\n",
              "75%    5.803430e+07        14.643431\n",
              "max    5.814032e+07     29700.000000"
            ]
          },
          "metadata": {
            "tags": []
          },
          "execution_count": 14
        }
      ]
    },
    {
      "cell_type": "code",
      "metadata": {
        "id": "x_-Fvz8tZGvk",
        "outputId": "b6abebe0-004c-4274-dc04-1b6cf6e3f32a"
      },
      "source": [
        "deposits.shape"
      ],
      "execution_count": null,
      "outputs": [
        {
          "output_type": "execute_result",
          "data": {
            "text/plain": [
              "(8771, 4)"
            ]
          },
          "metadata": {
            "tags": []
          },
          "execution_count": 15
        }
      ]
    },
    {
      "cell_type": "code",
      "metadata": {
        "id": "2xoT-skpZGvl"
      },
      "source": [
        "events = pd.read_csv('C:\\\\Users\\\\ilgar\\\\QuadCode\\dataset_events.csv', parse_dates=['date_time', 'file_date'])"
      ],
      "execution_count": null,
      "outputs": []
    },
    {
      "cell_type": "code",
      "metadata": {
        "id": "GvJYtXjVZGvl",
        "outputId": "e2e21fc3-024d-4b5d-dbea-9fe2e294cefb"
      },
      "source": [
        "events.head()"
      ],
      "execution_count": null,
      "outputs": [
        {
          "output_type": "execute_result",
          "data": {
            "text/html": [
              "<div>\n",
              "<style scoped>\n",
              "    .dataframe tbody tr th:only-of-type {\n",
              "        vertical-align: middle;\n",
              "    }\n",
              "\n",
              "    .dataframe tbody tr th {\n",
              "        vertical-align: top;\n",
              "    }\n",
              "\n",
              "    .dataframe thead th {\n",
              "        text-align: right;\n",
              "    }\n",
              "</style>\n",
              "<table border=\"1\" class=\"dataframe\">\n",
              "  <thead>\n",
              "    <tr style=\"text-align: right;\">\n",
              "      <th></th>\n",
              "      <th>platform</th>\n",
              "      <th>user_id</th>\n",
              "      <th>name</th>\n",
              "      <th>date_time</th>\n",
              "      <th>file_date</th>\n",
              "    </tr>\n",
              "  </thead>\n",
              "  <tbody>\n",
              "    <tr>\n",
              "      <th>0</th>\n",
              "      <td>mobile Android</td>\n",
              "      <td>58093662</td>\n",
              "      <td>video-tutorials_open-section</td>\n",
              "      <td>2020-02-22 07:10:14.488000+00:00</td>\n",
              "      <td>2020-02-22</td>\n",
              "    </tr>\n",
              "    <tr>\n",
              "      <th>1</th>\n",
              "      <td>Desktop</td>\n",
              "      <td>58098444</td>\n",
              "      <td>deposit-page_loading</td>\n",
              "      <td>2020-02-22 07:57:54.707000+00:00</td>\n",
              "      <td>2020-02-22</td>\n",
              "    </tr>\n",
              "    <tr>\n",
              "      <th>2</th>\n",
              "      <td>Desktop</td>\n",
              "      <td>58098444</td>\n",
              "      <td>deposit-page_loading</td>\n",
              "      <td>2020-02-22 07:59:26.364000+00:00</td>\n",
              "      <td>2020-02-22</td>\n",
              "    </tr>\n",
              "    <tr>\n",
              "      <th>3</th>\n",
              "      <td>mobile Android</td>\n",
              "      <td>58118019</td>\n",
              "      <td>kyc_new-screen</td>\n",
              "      <td>2020-02-22 05:00:28.586000+00:00</td>\n",
              "      <td>2020-02-22</td>\n",
              "    </tr>\n",
              "    <tr>\n",
              "      <th>4</th>\n",
              "      <td>Desktop</td>\n",
              "      <td>58113483</td>\n",
              "      <td>deposit-page_loading</td>\n",
              "      <td>2020-02-22 09:15:19.923000+00:00</td>\n",
              "      <td>2020-02-22</td>\n",
              "    </tr>\n",
              "  </tbody>\n",
              "</table>\n",
              "</div>"
            ],
            "text/plain": [
              "         platform   user_id                          name  \\\n",
              "0  mobile Android  58093662  video-tutorials_open-section   \n",
              "1         Desktop  58098444          deposit-page_loading   \n",
              "2         Desktop  58098444          deposit-page_loading   \n",
              "3  mobile Android  58118019                kyc_new-screen   \n",
              "4         Desktop  58113483          deposit-page_loading   \n",
              "\n",
              "                         date_time  file_date  \n",
              "0 2020-02-22 07:10:14.488000+00:00 2020-02-22  \n",
              "1 2020-02-22 07:57:54.707000+00:00 2020-02-22  \n",
              "2 2020-02-22 07:59:26.364000+00:00 2020-02-22  \n",
              "3 2020-02-22 05:00:28.586000+00:00 2020-02-22  \n",
              "4 2020-02-22 09:15:19.923000+00:00 2020-02-22  "
            ]
          },
          "metadata": {
            "tags": []
          },
          "execution_count": 17
        }
      ]
    },
    {
      "cell_type": "code",
      "metadata": {
        "id": "4EDhNE_uZGvl",
        "outputId": "4eb86ddc-3a73-4202-f1bc-5ffa5ce7bb60"
      },
      "source": [
        "events.info()"
      ],
      "execution_count": null,
      "outputs": [
        {
          "output_type": "stream",
          "text": [
            "<class 'pandas.core.frame.DataFrame'>\n",
            "RangeIndex: 16000 entries, 0 to 15999\n",
            "Data columns (total 5 columns):\n",
            " #   Column     Non-Null Count  Dtype              \n",
            "---  ------     --------------  -----              \n",
            " 0   platform   16000 non-null  object             \n",
            " 1   user_id    16000 non-null  int64              \n",
            " 2   name       16000 non-null  object             \n",
            " 3   date_time  16000 non-null  datetime64[ns, UTC]\n",
            " 4   file_date  16000 non-null  datetime64[ns]     \n",
            "dtypes: datetime64[ns, UTC](1), datetime64[ns](1), int64(1), object(2)\n",
            "memory usage: 625.1+ KB\n"
          ],
          "name": "stdout"
        }
      ]
    },
    {
      "cell_type": "code",
      "metadata": {
        "id": "cke7YL0XZGvl",
        "outputId": "4731c339-ebef-4473-a72f-ebac1b446924"
      },
      "source": [
        "events.shape"
      ],
      "execution_count": null,
      "outputs": [
        {
          "output_type": "execute_result",
          "data": {
            "text/plain": [
              "(16000, 5)"
            ]
          },
          "metadata": {
            "tags": []
          },
          "execution_count": 19
        }
      ]
    },
    {
      "cell_type": "code",
      "metadata": {
        "id": "sKZNO8ObZGvm",
        "outputId": "4e2a858e-be45-4d8a-b614-e3083ea7f27e"
      },
      "source": [
        "# Time period of the dataset\n",
        "print('Min date from date_time : %s' % events.date_time.min().date())\n",
        "print('Max date from date_time : %s' % events.date_time.max().date())"
      ],
      "execution_count": null,
      "outputs": [
        {
          "output_type": "stream",
          "text": [
            "Min date from date_time : 2020-02-01\n",
            "Max date from date_time : 2020-02-22\n"
          ],
          "name": "stdout"
        }
      ]
    },
    {
      "cell_type": "code",
      "metadata": {
        "id": "uuAurXa8ZGvm",
        "outputId": "ed7e4ba3-19a4-43d5-bbce-c0df83940230"
      },
      "source": [
        "events.platform.value_counts()"
      ],
      "execution_count": null,
      "outputs": [
        {
          "output_type": "execute_result",
          "data": {
            "text/plain": [
              "mobile Android    8581\n",
              "Desktop           5970\n",
              "mobile iOS        1386\n",
              "Web                 63\n",
              "Name: platform, dtype: int64"
            ]
          },
          "metadata": {
            "tags": []
          },
          "execution_count": 21
        }
      ]
    },
    {
      "cell_type": "code",
      "metadata": {
        "id": "TT-Wf0fWZGvm",
        "outputId": "b0df53dc-b96b-4bbd-85c7-671f1a228fd2"
      },
      "source": [
        "events.name.value_counts()"
      ],
      "execution_count": null,
      "outputs": [
        {
          "output_type": "execute_result",
          "data": {
            "text/plain": [
              "kyc_new-screen                  7679\n",
              "leaderboard_scrolling           2965\n",
              "video-tutorials_open-section    2547\n",
              "deposit-page_loading            2092\n",
              "slow-platform_show               380\n",
              "tournaments_open-tournament      166\n",
              "faq                              126\n",
              "rate-app_rate                     45\n",
              "Name: name, dtype: int64"
            ]
          },
          "metadata": {
            "tags": []
          },
          "execution_count": 22
        }
      ]
    },
    {
      "cell_type": "code",
      "metadata": {
        "id": "OA30T_9rZGvm"
      },
      "source": [
        "users = pd.read_csv('C:\\\\Users\\\\ilgar\\\\QuadCode\\dataset_users.csv', parse_dates=['reg_date'], \n",
        "                    thousands = ',')"
      ],
      "execution_count": null,
      "outputs": []
    },
    {
      "cell_type": "code",
      "metadata": {
        "id": "FAlXaDwxZGvn",
        "outputId": "81f8b4d4-6d5a-4ff6-9060-6a7429a4a1fc"
      },
      "source": [
        "users.head()"
      ],
      "execution_count": null,
      "outputs": [
        {
          "output_type": "execute_result",
          "data": {
            "text/html": [
              "<div>\n",
              "<style scoped>\n",
              "    .dataframe tbody tr th:only-of-type {\n",
              "        vertical-align: middle;\n",
              "    }\n",
              "\n",
              "    .dataframe tbody tr th {\n",
              "        vertical-align: top;\n",
              "    }\n",
              "\n",
              "    .dataframe thead th {\n",
              "        text-align: right;\n",
              "    }\n",
              "</style>\n",
              "<table border=\"1\" class=\"dataframe\">\n",
              "  <thead>\n",
              "    <tr style=\"text-align: right;\">\n",
              "      <th></th>\n",
              "      <th>user_id</th>\n",
              "      <th>reg_date</th>\n",
              "      <th>region</th>\n",
              "    </tr>\n",
              "  </thead>\n",
              "  <tbody>\n",
              "    <tr>\n",
              "      <th>0</th>\n",
              "      <td>57817176</td>\n",
              "      <td>2020-02-03</td>\n",
              "      <td>Africa</td>\n",
              "    </tr>\n",
              "    <tr>\n",
              "      <th>1</th>\n",
              "      <td>58035144</td>\n",
              "      <td>2020-02-06</td>\n",
              "      <td>ACO</td>\n",
              "    </tr>\n",
              "    <tr>\n",
              "      <th>2</th>\n",
              "      <td>57821190</td>\n",
              "      <td>2020-02-03</td>\n",
              "      <td>ACO</td>\n",
              "    </tr>\n",
              "    <tr>\n",
              "      <th>3</th>\n",
              "      <td>57752121</td>\n",
              "      <td>2020-02-02</td>\n",
              "      <td>ACO</td>\n",
              "    </tr>\n",
              "    <tr>\n",
              "      <th>4</th>\n",
              "      <td>57787752</td>\n",
              "      <td>2020-02-03</td>\n",
              "      <td>ACO</td>\n",
              "    </tr>\n",
              "  </tbody>\n",
              "</table>\n",
              "</div>"
            ],
            "text/plain": [
              "    user_id   reg_date  region\n",
              "0  57817176 2020-02-03  Africa\n",
              "1  58035144 2020-02-06     ACO\n",
              "2  57821190 2020-02-03     ACO\n",
              "3  57752121 2020-02-02     ACO\n",
              "4  57787752 2020-02-03     ACO"
            ]
          },
          "metadata": {
            "tags": []
          },
          "execution_count": 24
        }
      ]
    },
    {
      "cell_type": "code",
      "metadata": {
        "id": "ec6gn3BDZGvn",
        "outputId": "373aec9b-7dfc-4714-88b8-18b654b8186c"
      },
      "source": [
        "users.info()"
      ],
      "execution_count": null,
      "outputs": [
        {
          "output_type": "stream",
          "text": [
            "<class 'pandas.core.frame.DataFrame'>\n",
            "RangeIndex: 87341 entries, 0 to 87340\n",
            "Data columns (total 3 columns):\n",
            " #   Column    Non-Null Count  Dtype         \n",
            "---  ------    --------------  -----         \n",
            " 0   user_id   87341 non-null  int64         \n",
            " 1   reg_date  87341 non-null  datetime64[ns]\n",
            " 2   region    87341 non-null  object        \n",
            "dtypes: datetime64[ns](1), int64(1), object(1)\n",
            "memory usage: 2.0+ MB\n"
          ],
          "name": "stdout"
        }
      ]
    },
    {
      "cell_type": "code",
      "metadata": {
        "id": "MDBWcs68ZGvn",
        "outputId": "0c8a7c16-766c-438f-8955-9bc813451ecd"
      },
      "source": [
        "users.shape"
      ],
      "execution_count": null,
      "outputs": [
        {
          "output_type": "execute_result",
          "data": {
            "text/plain": [
              "(87341, 3)"
            ]
          },
          "metadata": {
            "tags": []
          },
          "execution_count": 26
        }
      ]
    },
    {
      "cell_type": "code",
      "metadata": {
        "id": "bjxyrhO6ZGvn",
        "outputId": "282a3837-0588-40ee-c39a-7db23ab4a8e6"
      },
      "source": [
        "users.region.value_counts()"
      ],
      "execution_count": null,
      "outputs": [
        {
          "output_type": "execute_result",
          "data": {
            "text/plain": [
              "ACO               69259\n",
              "Africa            17542\n",
              "Non-reg Europe      540\n",
              "Name: region, dtype: int64"
            ]
          },
          "metadata": {
            "tags": []
          },
          "execution_count": 27
        }
      ]
    },
    {
      "cell_type": "code",
      "metadata": {
        "id": "-vnnKT1QZGvo",
        "outputId": "0f4c799a-e45e-41c0-beb1-b8bd03a5c241"
      },
      "source": [
        "# Time period of the dataset\n",
        "print('Min date from reg_date : %s' % users.reg_date.min().date())\n",
        "print('Max date from reg_date : %s' % users.reg_date.max().date())"
      ],
      "execution_count": null,
      "outputs": [
        {
          "output_type": "stream",
          "text": [
            "Min date from reg_date : 2020-02-01\n",
            "Max date from reg_date : 2020-02-07\n"
          ],
          "name": "stdout"
        }
      ]
    },
    {
      "cell_type": "markdown",
      "metadata": {
        "id": "B8ohDna6ZGvo"
      },
      "source": [
        "Some Functions"
      ]
    },
    {
      "cell_type": "code",
      "metadata": {
        "id": "DRX6EvyGZGvo"
      },
      "source": [
        "def get_dummies(x):\n",
        "    \"\"\"Turn a column of string values into categorical variables through one-hot encoding.\n",
        "\n",
        "    :param x: Input data frame with original columns\n",
        "    :type x: Pandas DataFrame\n",
        "    :returns x: Output data frame with dummy variables\n",
        "    :rtype x: Pandas DataFrame\n",
        "    \"\"\"\n",
        "    column_names = []\n",
        "    for i in range(0, len(x.columns)):\n",
        "        if x.dtypes[i] == 'object':\n",
        "            column_names.append(x.columns[i])\n",
        "\n",
        "    dummies = pd.get_dummies(x[column_names])\n",
        "    x = pd.concat([x.reset_index(drop=True), dummies], axis=1)\n",
        "    x = x.drop(column_names, axis=1)    \n",
        "\n",
        "    return x"
      ],
      "execution_count": null,
      "outputs": []
    },
    {
      "cell_type": "markdown",
      "metadata": {
        "id": "PY-eWCkCZGvp"
      },
      "source": [
        "Data preparation"
      ]
    },
    {
      "cell_type": "markdown",
      "metadata": {
        "id": "W6p3i8xNZGvp"
      },
      "source": [
        "deposits"
      ]
    },
    {
      "cell_type": "code",
      "metadata": {
        "id": "kgmCsqGiZGvp"
      },
      "source": [
        "dataframes = [deposits, users]\n",
        "deposits_df = reduce(lambda left, right: pd.merge(left, right, on='user_id', how='left'), dataframes)\n",
        "deposits_df['days_since_reg'] = (deposits_df['transaction_created'] - deposits_df['reg_date']).astype('timedelta64[D]')"
      ],
      "execution_count": null,
      "outputs": []
    },
    {
      "cell_type": "code",
      "metadata": {
        "id": "15I3xGEVZGvp"
      },
      "source": [
        "aggregations_deposits = {\n",
        "    'transaction_type': [lambda x: x[x == 'deposit'].count(), lambda x: x[x == 'withdraw'].count()],\n",
        "    'transaction_sum': ['max','min','median','sum'],\n",
        "    'days_since_reg': ['max','min', 'median'],\n",
        "    'region': 'max'\n",
        "                        }\n",
        "\n",
        "df_deposits = deposits_df.groupby('user_id').agg(aggregations_deposits).reset_index()\n",
        "df_deposits.columns = ['user_id','n_type_deposit', 'n_type_withdraw','max_transaction_sum','min_transaction_sum',\n",
        "                      'median_transaction_sum','total_transaction_sum',\n",
        "                       'max_days_since_reg','min_days_since_reg', 'avg_days_since_reg', 'region']"
      ],
      "execution_count": null,
      "outputs": []
    },
    {
      "cell_type": "code",
      "metadata": {
        "id": "fs5dBQb4ZGvq"
      },
      "source": [
        "df_deposits_dm = get_dummies(df_deposits)"
      ],
      "execution_count": null,
      "outputs": []
    },
    {
      "cell_type": "code",
      "metadata": {
        "id": "tf-PJxvgZGvq"
      },
      "source": [
        "df_deposits_dm.drop(df_deposits_dm[df_deposits_dm.max_transaction_sum > 1000].index,\n",
        "    inplace=True)"
      ],
      "execution_count": null,
      "outputs": []
    },
    {
      "cell_type": "code",
      "metadata": {
        "id": "rJ0pi0u_ZGvq",
        "outputId": "2e1b637a-8bcf-4963-99b8-4b37a98c2ab6"
      },
      "source": [
        "plt.hist(df_deposits.min_days_since_reg, bins=3)"
      ],
      "execution_count": null,
      "outputs": [
        {
          "output_type": "execute_result",
          "data": {
            "text/plain": [
              "(array([1405.,  196.,   93.]),\n",
              " array([ 0.        ,  4.66666667,  9.33333333, 14.        ]),\n",
              " <a list of 3 Patch objects>)"
            ]
          },
          "metadata": {
            "tags": []
          },
          "execution_count": 34
        },
        {
          "output_type": "display_data",
          "data": {
            "image/png": "[encoded data removed]",
            "text/plain": [
              "<Figure size 432x288 with 1 Axes>"
            ]
          },
          "metadata": {
            "tags": [],
            "needs_background": "light"
          }
        }
      ]
    },
    {
      "cell_type": "markdown",
      "metadata": {
        "id": "Njb7XbZIZGvq"
      },
      "source": [
        "deals"
      ]
    },
    {
      "cell_type": "code",
      "metadata": {
        "id": "aCL8SJUrZGvq"
      },
      "source": [
        "deals['deal_term'] = (deals['close_at'] - deals['create_at']).astype('timedelta64[D]')\n",
        "\n",
        "deals['pnl_cfd'] = np.where(deals['instrument_type'] == 'cfd',deals['pnl'],0)\n",
        "deals['pnl_forex'] = np.where(deals['instrument_type'] == 'forex',deals['pnl'],0)\n",
        "deals['pnl_crypto'] = np.where(deals['instrument_type'] == 'crypto',deals['pnl'],0)"
      ],
      "execution_count": null,
      "outputs": []
    },
    {
      "cell_type": "code",
      "metadata": {
        "id": "uyyZiBxuZGvr"
      },
      "source": [
        "dataframes = [deals, users]\n",
        "deals_df = reduce(lambda left, right: pd.merge(left, right, on='user_id', how='left'), dataframes)\n",
        "deals_df['days_since_reg'] = (deals_df['create_at'].dt.tz_localize(None) \n",
        "                              - deals_df['reg_date']).astype('timedelta64[D]')"
      ],
      "execution_count": null,
      "outputs": []
    },
    {
      "cell_type": "code",
      "metadata": {
        "id": "eYccwXuoZGvr"
      },
      "source": [
        "aggregations_deals = {\n",
        "    'instrument_type': [lambda x: x[x == 'cfd'].count(), lambda x: x[x == 'forex'].count(),\n",
        "                       lambda x: x[x == 'crypto'].count()],\n",
        "    'pnl': ['max','min','median','sum'],\n",
        "    'volume': ['max','min','median','sum'],\n",
        "    'deal_term': ['max','min','median'],\n",
        "    'pnl_cfd': ['max','min','median','sum'],\n",
        "    'pnl_forex': ['max','min','median','sum'],\n",
        "    'pnl_crypto': ['max','min','median','sum'],\n",
        "    'days_since_reg': ['max','min', 'median']\n",
        "                        }\n",
        "\n",
        "df_deals = deals_df.groupby('user_id').agg(aggregations_deals).reset_index()\n",
        "df_deals.columns = ['user_id','n_type_cfd', 'n_type_forex','n_type_crypto', \n",
        "                    'max_pnl','min_pnl','median_pnl','pnl_sum',\n",
        "                    'max_volume','min_volume','median_volume','volume_sum',\n",
        "                    'max_deal_term','min_deal_term','median_deal_term',\n",
        "                   'max_pnl_cfd','min_pnl_cfd','median_pnl_cfd','pnl_cfd_sum',\n",
        "                   'max_pnl_forex','min_pnl_forex','median_pnl_forex','pnl_forex_sum',\n",
        "                   'max_pnl_crypto','min_pnl_crypto','median_pnl_crypto','volume_pnl_crypto',\n",
        "                   'max_days_since_reg','min_days_since_reg','avg_days_since_reg']"
      ],
      "execution_count": null,
      "outputs": []
    },
    {
      "cell_type": "code",
      "metadata": {
        "id": "6MfPO2w_ZGvr"
      },
      "source": [
        "df_deals.drop(df_deals[df_deals.max_pnl > 100000000].index,\n",
        "    inplace=True)"
      ],
      "execution_count": null,
      "outputs": []
    },
    {
      "cell_type": "code",
      "metadata": {
        "id": "o13or5bKZGvs",
        "outputId": "de3093cd-0555-4f52-aa2d-0d4b298ee5e1"
      },
      "source": [
        "plt.hist(df_deals.median_deal_term, bins=12)"
      ],
      "execution_count": null,
      "outputs": [
        {
          "output_type": "execute_result",
          "data": {
            "text/plain": [
              "(array([543.,  25.,  11.,   6.,   3.,   1.,   4.,   2.,   1.,   1.,   1.,\n",
              "          1.]),\n",
              " array([ 0.        ,  0.91666667,  1.83333333,  2.75      ,  3.66666667,\n",
              "         4.58333333,  5.5       ,  6.41666667,  7.33333333,  8.25      ,\n",
              "         9.16666667, 10.08333333, 11.        ]),\n",
              " <a list of 12 Patch objects>)"
            ]
          },
          "metadata": {
            "tags": []
          },
          "execution_count": 39
        },
        {
          "output_type": "display_data",
          "data": {
            "image/png": "[encoded data removed]",
            "text/plain": [
              "<Figure size 432x288 with 1 Axes>"
            ]
          },
          "metadata": {
            "tags": [],
            "needs_background": "light"
          }
        }
      ]
    },
    {
      "cell_type": "code",
      "metadata": {
        "id": "-r-lli4hZGvt",
        "outputId": "5d65e50b-9132-4c3b-b9b4-9d8f28382f40"
      },
      "source": [
        "plt.hist(df_deals.min_days_since_reg, bins=12)"
      ],
      "execution_count": null,
      "outputs": [
        {
          "output_type": "execute_result",
          "data": {
            "text/plain": [
              "(array([338.,  52.,  40.,  35.,  24.,  23.,  32.,   7.,   8.,   8.,  11.,\n",
              "         21.]),\n",
              " array([ 0.        ,  1.16666667,  2.33333333,  3.5       ,  4.66666667,\n",
              "         5.83333333,  7.        ,  8.16666667,  9.33333333, 10.5       ,\n",
              "        11.66666667, 12.83333333, 14.        ]),\n",
              " <a list of 12 Patch objects>)"
            ]
          },
          "metadata": {
            "tags": []
          },
          "execution_count": 40
        },
        {
          "output_type": "display_data",
          "data": {
            "image/png": "[encoded data removed]",
            "text/plain": [
              "<Figure size 432x288 with 1 Axes>"
            ]
          },
          "metadata": {
            "tags": [],
            "needs_background": "light"
          }
        }
      ]
    },
    {
      "cell_type": "markdown",
      "metadata": {
        "id": "L7A9zgt8ZGvt"
      },
      "source": [
        "event"
      ]
    },
    {
      "cell_type": "code",
      "metadata": {
        "id": "HlwpvpkPZGvt"
      },
      "source": [
        "dataframes = [events, users]\n",
        "events_df = reduce(lambda left, right: pd.merge(left, right, on='user_id', how='left'), dataframes)\n",
        "events_df['days_since_reg'] = (events_df['file_date'] - events_df['reg_date']).astype('timedelta64[D]')\n",
        "\n",
        "events_df['kyc_new-screen'] = np.where(events_df['name'] == 'kyc_new-screen',1,0)\n",
        "events_df['leaderboard_scrolling'] = np.where(events_df['name'] == 'leaderboard_scrolling',1,0)\n",
        "events_df['video-tutorials'] = np.where(events_df['name'] == 'video-tutorials_open-section',1,0)\n",
        "events_df['deposit'] = np.where(events_df['name'] == 'deposit-page_loading',1,0)"
      ],
      "execution_count": null,
      "outputs": []
    },
    {
      "cell_type": "code",
      "metadata": {
        "id": "SVI9eSeyZGvt"
      },
      "source": [
        "aggregations_events = {\n",
        "    'platform': [lambda x: x.value_counts().index[0] if len(x.value_counts()) else None],\n",
        "    'name': [lambda x: x.value_counts().index[0] if len(x.value_counts()) else None],\n",
        "    'days_since_reg': ['min','max','median'],\n",
        "    'kyc_new-screen': 'max',\n",
        "    'leaderboard_scrolling': 'max',\n",
        "    'video-tutorials': 'max',\n",
        "    'deposit': 'max',\n",
        "                        }\n",
        "\n",
        "df_events = events_df.groupby('user_id').agg(aggregations_events).reset_index()\n",
        "df_events.columns = ['user_id','pref_platform','pref_name', \n",
        "                     'min_days_since_reg','max_days_since_reg','avg_days_since_reg',\n",
        "                     'kyc_new-screen',\n",
        "                    'leaderboard','video','deposit']"
      ],
      "execution_count": null,
      "outputs": []
    },
    {
      "cell_type": "code",
      "metadata": {
        "id": "y2C4EalxZGvu"
      },
      "source": [
        "df_events_dm = get_dummies(df_events)"
      ],
      "execution_count": null,
      "outputs": []
    },
    {
      "cell_type": "code",
      "metadata": {
        "id": "sZ0ZPSr2ZGvu",
        "outputId": "7c25e63c-eb46-4bbc-9be3-cb2eb105da42"
      },
      "source": [
        "x1 = df_events[df_events['kyc_new-screen'] == 1].avg_days_since_reg\n",
        "x2 = df_events[df_events.leaderboard == 1].avg_days_since_reg\n",
        "x3 = df_events[df_events.video == 1].avg_days_since_reg\n",
        "x4 = df_events[df_events.deposit == 1].avg_days_since_reg\n",
        "\n",
        "plt.hist([x1,x2,x3,x4], alpha=0.75, bins=20,label=['x1', 'x2','x3','x4'])\n",
        "plt.legend(loc='upper right')\n",
        "plt.show()"
      ],
      "execution_count": null,
      "outputs": [
        {
          "output_type": "display_data",
          "data": {
            "image/png": "[encoded data removed]",
            "text/plain": [
              "<Figure size 432x288 with 1 Axes>"
            ]
          },
          "metadata": {
            "tags": [],
            "needs_background": "light"
          }
        }
      ]
    },
    {
      "cell_type": "markdown",
      "metadata": {
        "id": "w_rGLSLnZGvu"
      },
      "source": [
        "Let's get all the data together"
      ]
    },
    {
      "cell_type": "code",
      "metadata": {
        "id": "PMApDrElZGvu",
        "outputId": "5b55b63b-3176-489f-ce57-a65293283899"
      },
      "source": [
        "print (df_deposits_dm.shape, df_deals.shape, df_events_dm.shape)"
      ],
      "execution_count": null,
      "outputs": [
        {
          "output_type": "stream",
          "text": [
            "(1666, 13) (599, 30) (3440, 20)\n"
          ],
          "name": "stdout"
        }
      ]
    },
    {
      "cell_type": "code",
      "metadata": {
        "id": "rH-XZVLaZGvv"
      },
      "source": [
        "dataframes = [df_events_dm, df_deposits_dm, df_deals]\n",
        "customer_data = reduce(lambda left, right: pd.merge(left, right, on='user_id', how='left'), dataframes)\n",
        "\n",
        "#customer_data = df_deals"
      ],
      "execution_count": null,
      "outputs": []
    },
    {
      "cell_type": "code",
      "metadata": {
        "id": "BAmZ4qyoZGvv",
        "outputId": "cce34c4d-4165-47aa-dcd5-8739a7e6d5b4"
      },
      "source": [
        "customer_data.isna().any().any()"
      ],
      "execution_count": null,
      "outputs": [
        {
          "output_type": "execute_result",
          "data": {
            "text/plain": [
              "True"
            ]
          },
          "metadata": {
            "tags": []
          },
          "execution_count": 47
        }
      ]
    },
    {
      "cell_type": "code",
      "metadata": {
        "id": "Vc88-pbHZGvv",
        "outputId": "e5fb1cfd-016c-456e-eb1c-84c3f73e077d"
      },
      "source": [
        "customer_data.shape"
      ],
      "execution_count": null,
      "outputs": [
        {
          "output_type": "execute_result",
          "data": {
            "text/plain": [
              "(3440, 61)"
            ]
          },
          "metadata": {
            "tags": []
          },
          "execution_count": 48
        }
      ]
    },
    {
      "cell_type": "markdown",
      "metadata": {
        "id": "vQ0CMznoZGvv"
      },
      "source": [
        "Let's look at some Algorithms!"
      ]
    },
    {
      "cell_type": "markdown",
      "metadata": {
        "id": "RLRPfRk6ZGvw"
      },
      "source": [
        "Some ML Functions"
      ]
    },
    {
      "cell_type": "code",
      "metadata": {
        "id": "V2N2K6KeZGvw"
      },
      "source": [
        "def standard_normalized_vars(x):\n",
        "    column_names = []\n",
        "    for i in range(0,len(x.columns)):\n",
        "        if x.dtypes[i] in ['int64','float64','uint8']:\n",
        "            column_names.append(x.columns[i])    \n",
        "    x[column_names] = x[column_names].fillna(0)\n",
        "    x[column_names] = x[column_names].astype(float)\n",
        "    df = x[column_names].values #returns a numpy array\n",
        "    min_max_scaler = preprocessing.StandardScaler()\n",
        "    x_scaled = min_max_scaler.fit_transform(df)\n",
        "    df = pd.DataFrame(x_scaled)\n",
        "    df.columns = column_names\n",
        "    x[column_names] = df[column_names]\n",
        "    return x"
      ],
      "execution_count": null,
      "outputs": []
    },
    {
      "cell_type": "code",
      "metadata": {
        "id": "sI3abKX4ZGvw"
      },
      "source": [
        "def pca_reduce(x, comp_n):\n",
        "    pca_in = x.copy()\n",
        "    pca_n = PCA(n_components=comp_n, \n",
        "          copy=True, \n",
        "          whiten=False, \n",
        "          svd_solver='auto', \n",
        "          tol=0.0, \n",
        "          iterated_power='auto', \n",
        "          random_state=0)\n",
        "    X_pca = pca_n.fit(pca_in)\n",
        "    trans_pca = pca_n.transform(pca_in)\n",
        "    df_pca = pd.DataFrame(trans_pca)\n",
        "    variance_ratio = X_pca.explained_variance_ratio_\n",
        "    print('pca_components ',comp_n,'   describe ',sum(variance_ratio))\n",
        "    return df_pca"
      ],
      "execution_count": null,
      "outputs": []
    },
    {
      "cell_type": "code",
      "metadata": {
        "id": "hGPQ7GqrZGvw"
      },
      "source": [
        "def train_kmeans(x, k):\n",
        "    KMModel = KMeans(n_clusters=k, \n",
        "                     init='k-means++', \n",
        "                     n_init=10, \n",
        "                     max_iter=600, \n",
        "                     tol=0.0001, \n",
        "                     precompute_distances='auto', \n",
        "                     verbose=0, \n",
        "                     random_state=1, \n",
        "                     copy_x=True, \n",
        "                     n_jobs=1, \n",
        "                     algorithm='auto')\n",
        "    KMModel.fit(x) \n",
        "    print(\"kmeans,\", k, \"clusters:   \",\n",
        "          \"calinski_harabaz_score\", calinski_harabasz_score(x, KMModel.labels_), \"   \",\n",
        "          \"silhouette_score\", silhouette_score(x, KMModel.labels_),'\\n' )\n",
        "    return KMModel"
      ],
      "execution_count": null,
      "outputs": []
    },
    {
      "cell_type": "code",
      "metadata": {
        "id": "SPIUgOsBZGvx"
      },
      "source": [
        "ids = customer_data.user_id.copy()"
      ],
      "execution_count": null,
      "outputs": []
    },
    {
      "cell_type": "code",
      "metadata": {
        "id": "_zjjOXiSZGvx"
      },
      "source": [
        "customer_data.drop('user_id', axis=1, inplace=True)"
      ],
      "execution_count": null,
      "outputs": []
    },
    {
      "cell_type": "code",
      "metadata": {
        "id": "zUi3c7iBZGvy"
      },
      "source": [
        "customer_data = standard_normalized_vars(customer_data)"
      ],
      "execution_count": null,
      "outputs": []
    },
    {
      "cell_type": "code",
      "metadata": {
        "id": "xqhyaMSQZGvy",
        "outputId": "fcc81007-e37c-4819-da61-3cc3e4083ef5"
      },
      "source": [
        "customer_data.isna().any().any()"
      ],
      "execution_count": null,
      "outputs": [
        {
          "output_type": "execute_result",
          "data": {
            "text/plain": [
              "False"
            ]
          },
          "metadata": {
            "tags": []
          },
          "execution_count": 55
        }
      ]
    },
    {
      "cell_type": "code",
      "metadata": {
        "id": "jFAiL2ANZGvy",
        "outputId": "7cac96d9-ca9e-4edc-860a-ab513fc7e6e5"
      },
      "source": [
        "pca_components = [15, 25,35]\n",
        "clusters = [3, 6, 9]\n",
        "for cmp in pca_components:\n",
        "    for k in clusters:\n",
        "        df = customer_data.copy()\n",
        "        # reduce features\n",
        "        pca_df = pca_reduce(df, cmp)\n",
        "        \n",
        "        #cluster!\n",
        "        model = train_kmeans(pca_df, k)"
      ],
      "execution_count": null,
      "outputs": [
        {
          "output_type": "stream",
          "text": [
            "pca_components  15    describe  0.6886336404165432\n",
            "kmeans, 3 clusters:    calinski_harabaz_score 579.4465204115783     silhouette_score 0.5155280782578439 \n",
            "\n",
            "pca_components  15    describe  0.6886336404165432\n",
            "kmeans, 6 clusters:    calinski_harabaz_score 506.05361114948266     silhouette_score 0.3597346362983815 \n",
            "\n",
            "pca_components  15    describe  0.6886336404165432\n",
            "kmeans, 9 clusters:    calinski_harabaz_score 483.5458333940035     silhouette_score 0.40746050086604807 \n",
            "\n",
            "pca_components  25    describe  0.8691845588537859\n",
            "kmeans, 3 clusters:    calinski_harabaz_score 431.3891933517202     silhouette_score 0.47801228287898245 \n",
            "\n",
            "pca_components  25    describe  0.8691845588537859\n",
            "kmeans, 6 clusters:    calinski_harabaz_score 350.03974317254597     silhouette_score 0.3010475548616102 \n",
            "\n",
            "pca_components  25    describe  0.8691845588537859\n",
            "kmeans, 9 clusters:    calinski_harabaz_score 305.78991620654165     silhouette_score 0.31128468483664656 \n",
            "\n",
            "pca_components  35    describe  0.9675297751825281\n",
            "kmeans, 3 clusters:    calinski_harabaz_score 378.74867906663087     silhouette_score 0.4825219003290697 \n",
            "\n",
            "pca_components  35    describe  0.9675297751825281\n",
            "kmeans, 6 clusters:    calinski_harabaz_score 296.32240160339705     silhouette_score 0.28550708024399757 \n",
            "\n",
            "pca_components  35    describe  0.9675297751825281\n",
            "kmeans, 9 clusters:    calinski_harabaz_score 262.1433116152728     silhouette_score 0.31835076294927045 \n",
            "\n"
          ],
          "name": "stdout"
        }
      ]
    },
    {
      "cell_type": "code",
      "metadata": {
        "id": "4uXEuRLcZGvz",
        "outputId": "2f6cbfb2-c367-422a-da29-6cc18eec716a"
      },
      "source": [
        "pca_df = pca_reduce(df, 25)\n",
        "model = train_kmeans(pca_df, 3)"
      ],
      "execution_count": null,
      "outputs": [
        {
          "output_type": "stream",
          "text": [
            "pca_components  25    describe  0.8691845588537859\n",
            "kmeans, 3 clusters:    calinski_harabaz_score 431.3891933517202     silhouette_score 0.47801228287898245 \n",
            "\n"
          ],
          "name": "stdout"
        }
      ]
    },
    {
      "cell_type": "code",
      "metadata": {
        "id": "4YscxI-1ZGvz"
      },
      "source": [
        "def pca_3d(df):   \n",
        "    pca = PCA(n_components=3, \n",
        "          copy=True, \n",
        "          whiten=False, \n",
        "          svd_solver='auto', \n",
        "          tol=0.0, \n",
        "          iterated_power='auto', \n",
        "          random_state=0)\n",
        "    X_pca = pca.fit(df)\n",
        "    trans_pca = X_pca.transform(df)\n",
        "    pca3_df = pd.DataFrame(trans_pca)\n",
        "    pca3_df.columns = ['x','y','z']\n",
        "    print('explained_variance_ratio', X_pca.explained_variance_ratio_)\n",
        "    \n",
        "    return pca3_df"
      ],
      "execution_count": null,
      "outputs": []
    },
    {
      "cell_type": "code",
      "metadata": {
        "id": "-nlQ9n92ZGv0",
        "outputId": "ff00abbd-8237-41ba-9c65-3bea80dfb5c6"
      },
      "source": [
        "pca3_df = pca_3d(pca_df)\n",
        "\n",
        "clusters = pd.DataFrame(model.labels_)\n",
        "clusters.columns = ['clusters']\n",
        "\n",
        "df_3d = pd.concat([pca3_df, clusters], axis=1, join='inner')"
      ],
      "execution_count": null,
      "outputs": [
        {
          "output_type": "stream",
          "text": [
            "explained_variance_ratio [0.17171358 0.09907008 0.0670574 ]\n"
          ],
          "name": "stdout"
        }
      ]
    },
    {
      "cell_type": "code",
      "metadata": {
        "id": "JYSAhKbSZGv0"
      },
      "source": [
        "plt.rcParams['figure.figsize'] = (12, 8)"
      ],
      "execution_count": null,
      "outputs": []
    },
    {
      "cell_type": "code",
      "metadata": {
        "id": "kIsxUZrLZGv0",
        "outputId": "6ac6a79f-54ee-441a-c45f-5a77ecee3a97"
      },
      "source": [
        "fig, ax = plt.subplots(ncols=1, nrows=1)\n",
        "ax.scatter(df_3d.x.values, df_3d.y.values, s=50, lw=0,\n",
        "           c=df_3d.clusters.values, cmap='plasma', alpha=0.8)\n",
        "\n",
        "ax.set_xlabel('x')\n",
        "ax.set_ylabel('y')\n",
        "plt.show()"
      ],
      "execution_count": null,
      "outputs": [
        {
          "output_type": "display_data",
          "data": {
            "image/png": "[encoded data removed]",
            "text/plain": [
              "<Figure size 864x576 with 1 Axes>"
            ]
          },
          "metadata": {
            "tags": [],
            "needs_background": "light"
          }
        }
      ]
    },
    {
      "cell_type": "code",
      "metadata": {
        "id": "dHzQUuHBZGv0",
        "outputId": "28e96ed3-9154-42b4-f9f2-8affd4aca1e0"
      },
      "source": [
        "fig, ax = plt.subplots(ncols=1, nrows=1)\n",
        "ax.scatter(df_3d.x.values, df_3d.z.values, s=50, lw=0,\n",
        "           c=df_3d.clusters.values, cmap='plasma', alpha=0.8)\n",
        "\n",
        "ax.set_xlabel('x')\n",
        "ax.set_ylabel('z')\n",
        "plt.show()"
      ],
      "execution_count": null,
      "outputs": [
        {
          "output_type": "display_data",
          "data": {
            "image/png": "[encoded data removed]",
            "text/plain": [
              "<Figure size 864x576 with 1 Axes>"
            ]
          },
          "metadata": {
            "tags": [],
            "needs_background": "light"
          }
        }
      ]
    },
    {
      "cell_type": "code",
      "metadata": {
        "id": "ptDR1YNcZGv1",
        "outputId": "59949873-becf-41a7-9836-6b68fc794ce6"
      },
      "source": [
        "fig, ax = plt.subplots(ncols=1, nrows=1)\n",
        "ax.scatter(df_3d.y.values, df_3d.z.values, s=50, lw=0,\n",
        "           c=df_3d.clusters.values, cmap='plasma', alpha=0.8)\n",
        "\n",
        "ax.set_xlabel('y')\n",
        "ax.set_ylabel('z')\n",
        "plt.show()"
      ],
      "execution_count": null,
      "outputs": [
        {
          "output_type": "display_data",
          "data": {
            "image/png": "[encoded data removed]",
            "text/plain": [
              "<Figure size 864x576 with 1 Axes>"
            ]
          },
          "metadata": {
            "tags": [],
            "needs_background": "light"
          }
        }
      ]
    },
    {
      "cell_type": "code",
      "metadata": {
        "id": "dolsG1TFZGv1"
      },
      "source": [
        "cluster_map = pd.DataFrame()\n",
        "cluster_map['data_index'] = ids\n",
        "cluster_map['cluster'] = model.labels_"
      ],
      "execution_count": null,
      "outputs": []
    },
    {
      "cell_type": "code",
      "metadata": {
        "id": "oatAKUJnZGv1",
        "outputId": "a6b2049e-4ba0-4662-fb0f-401b2b666be8"
      },
      "source": [
        "cluster_map"
      ],
      "execution_count": null,
      "outputs": [
        {
          "output_type": "execute_result",
          "data": {
            "text/html": [
              "<div>\n",
              "<style scoped>\n",
              "    .dataframe tbody tr th:only-of-type {\n",
              "        vertical-align: middle;\n",
              "    }\n",
              "\n",
              "    .dataframe tbody tr th {\n",
              "        vertical-align: top;\n",
              "    }\n",
              "\n",
              "    .dataframe thead th {\n",
              "        text-align: right;\n",
              "    }\n",
              "</style>\n",
              "<table border=\"1\" class=\"dataframe\">\n",
              "  <thead>\n",
              "    <tr style=\"text-align: right;\">\n",
              "      <th></th>\n",
              "      <th>data_index</th>\n",
              "      <th>cluster</th>\n",
              "    </tr>\n",
              "  </thead>\n",
              "  <tbody>\n",
              "    <tr>\n",
              "      <th>0</th>\n",
              "      <td>57642480</td>\n",
              "      <td>0</td>\n",
              "    </tr>\n",
              "    <tr>\n",
              "      <th>1</th>\n",
              "      <td>57642528</td>\n",
              "      <td>1</td>\n",
              "    </tr>\n",
              "    <tr>\n",
              "      <th>2</th>\n",
              "      <td>57642540</td>\n",
              "      <td>0</td>\n",
              "    </tr>\n",
              "    <tr>\n",
              "      <th>3</th>\n",
              "      <td>57643314</td>\n",
              "      <td>1</td>\n",
              "    </tr>\n",
              "    <tr>\n",
              "      <th>4</th>\n",
              "      <td>57643656</td>\n",
              "      <td>0</td>\n",
              "    </tr>\n",
              "    <tr>\n",
              "      <th>...</th>\n",
              "      <td>...</td>\n",
              "      <td>...</td>\n",
              "    </tr>\n",
              "    <tr>\n",
              "      <th>3435</th>\n",
              "      <td>58140369</td>\n",
              "      <td>0</td>\n",
              "    </tr>\n",
              "    <tr>\n",
              "      <th>3436</th>\n",
              "      <td>58140390</td>\n",
              "      <td>0</td>\n",
              "    </tr>\n",
              "    <tr>\n",
              "      <th>3437</th>\n",
              "      <td>58140459</td>\n",
              "      <td>0</td>\n",
              "    </tr>\n",
              "    <tr>\n",
              "      <th>3438</th>\n",
              "      <td>58140474</td>\n",
              "      <td>0</td>\n",
              "    </tr>\n",
              "    <tr>\n",
              "      <th>3439</th>\n",
              "      <td>58140495</td>\n",
              "      <td>0</td>\n",
              "    </tr>\n",
              "  </tbody>\n",
              "</table>\n",
              "<p>3440 rows × 2 columns</p>\n",
              "</div>"
            ],
            "text/plain": [
              "      data_index  cluster\n",
              "0       57642480        0\n",
              "1       57642528        1\n",
              "2       57642540        0\n",
              "3       57643314        1\n",
              "4       57643656        0\n",
              "...          ...      ...\n",
              "3435    58140369        0\n",
              "3436    58140390        0\n",
              "3437    58140459        0\n",
              "3438    58140474        0\n",
              "3439    58140495        0\n",
              "\n",
              "[3440 rows x 2 columns]"
            ]
          },
          "metadata": {
            "tags": []
          },
          "execution_count": 83
        }
      ]
    },
    {
      "cell_type": "code",
      "metadata": {
        "id": "UxX2mb8nZGv1",
        "outputId": "19d73211-c4e5-427f-a8dc-36d55eb620f7"
      },
      "source": [
        "cluster_map.cluster.value_counts()"
      ],
      "execution_count": null,
      "outputs": [
        {
          "output_type": "execute_result",
          "data": {
            "text/plain": [
              "0    2928\n",
              "1     498\n",
              "2      14\n",
              "Name: cluster, dtype: int64"
            ]
          },
          "metadata": {
            "tags": []
          },
          "execution_count": 84
        }
      ]
    },
    {
      "cell_type": "code",
      "metadata": {
        "id": "fykWE7QvZGv1",
        "outputId": "e8a3ea18-d8b6-4fcf-a3bf-a8afc5ca9035"
      },
      "source": [
        "cluster_map[cluster_map.cluster == 2] #suspicious cluster for security check"
      ],
      "execution_count": null,
      "outputs": [
        {
          "output_type": "execute_result",
          "data": {
            "text/html": [
              "<div>\n",
              "<style scoped>\n",
              "    .dataframe tbody tr th:only-of-type {\n",
              "        vertical-align: middle;\n",
              "    }\n",
              "\n",
              "    .dataframe tbody tr th {\n",
              "        vertical-align: top;\n",
              "    }\n",
              "\n",
              "    .dataframe thead th {\n",
              "        text-align: right;\n",
              "    }\n",
              "</style>\n",
              "<table border=\"1\" class=\"dataframe\">\n",
              "  <thead>\n",
              "    <tr style=\"text-align: right;\">\n",
              "      <th></th>\n",
              "      <th>data_index</th>\n",
              "      <th>cluster</th>\n",
              "    </tr>\n",
              "  </thead>\n",
              "  <tbody>\n",
              "    <tr>\n",
              "      <th>142</th>\n",
              "      <td>57692298</td>\n",
              "      <td>2</td>\n",
              "    </tr>\n",
              "    <tr>\n",
              "      <th>143</th>\n",
              "      <td>57693381</td>\n",
              "      <td>2</td>\n",
              "    </tr>\n",
              "    <tr>\n",
              "      <th>205</th>\n",
              "      <td>57725100</td>\n",
              "      <td>2</td>\n",
              "    </tr>\n",
              "    <tr>\n",
              "      <th>222</th>\n",
              "      <td>57728628</td>\n",
              "      <td>2</td>\n",
              "    </tr>\n",
              "    <tr>\n",
              "      <th>521</th>\n",
              "      <td>57799167</td>\n",
              "      <td>2</td>\n",
              "    </tr>\n",
              "    <tr>\n",
              "      <th>913</th>\n",
              "      <td>57886605</td>\n",
              "      <td>2</td>\n",
              "    </tr>\n",
              "    <tr>\n",
              "      <th>959</th>\n",
              "      <td>57898365</td>\n",
              "      <td>2</td>\n",
              "    </tr>\n",
              "    <tr>\n",
              "      <th>998</th>\n",
              "      <td>57909144</td>\n",
              "      <td>2</td>\n",
              "    </tr>\n",
              "    <tr>\n",
              "      <th>1086</th>\n",
              "      <td>57932349</td>\n",
              "      <td>2</td>\n",
              "    </tr>\n",
              "    <tr>\n",
              "      <th>1521</th>\n",
              "      <td>57980166</td>\n",
              "      <td>2</td>\n",
              "    </tr>\n",
              "    <tr>\n",
              "      <th>1981</th>\n",
              "      <td>58024341</td>\n",
              "      <td>2</td>\n",
              "    </tr>\n",
              "    <tr>\n",
              "      <th>2678</th>\n",
              "      <td>58091637</td>\n",
              "      <td>2</td>\n",
              "    </tr>\n",
              "    <tr>\n",
              "      <th>2973</th>\n",
              "      <td>58099722</td>\n",
              "      <td>2</td>\n",
              "    </tr>\n",
              "    <tr>\n",
              "      <th>3065</th>\n",
              "      <td>58102275</td>\n",
              "      <td>2</td>\n",
              "    </tr>\n",
              "  </tbody>\n",
              "</table>\n",
              "</div>"
            ],
            "text/plain": [
              "      data_index  cluster\n",
              "142     57692298        2\n",
              "143     57693381        2\n",
              "205     57725100        2\n",
              "222     57728628        2\n",
              "521     57799167        2\n",
              "913     57886605        2\n",
              "959     57898365        2\n",
              "998     57909144        2\n",
              "1086    57932349        2\n",
              "1521    57980166        2\n",
              "1981    58024341        2\n",
              "2678    58091637        2\n",
              "2973    58099722        2\n",
              "3065    58102275        2"
            ]
          },
          "metadata": {
            "tags": []
          },
          "execution_count": 85
        }
      ]
    },
    {
      "cell_type": "code",
      "metadata": {
        "id": "uV8yFHXZZGv2"
      },
      "source": [
        ""
      ],
      "execution_count": null,
      "outputs": []
    }
  ]
}